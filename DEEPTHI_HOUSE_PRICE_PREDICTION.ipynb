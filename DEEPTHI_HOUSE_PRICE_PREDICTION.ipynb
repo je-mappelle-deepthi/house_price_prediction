{
  "nbformat": 4,
  "nbformat_minor": 0,
  "metadata": {
    "colab": {
      "name": "DEEPTHI_HOUSE_PRICE_PREDICTION.ipynb",
      "provenance": [],
      "mount_file_id": "1HR6qxBr0t4CJpheqGXz-6d2oDqLbYwd6",
      "authorship_tag": "ABX9TyNHmSi29hiFHN5tuK8U/fjw",
      "include_colab_link": true
    },
    "kernelspec": {
      "name": "python3",
      "display_name": "Python 3"
    },
    "language_info": {
      "name": "python"
    }
  },
  "cells": [
    {
      "cell_type": "markdown",
      "metadata": {
        "id": "view-in-github",
        "colab_type": "text"
      },
      "source": [
        "<a href=\"https://colab.research.google.com/github/je-mappelle-deepthi/house_price_prediction/blob/main/DEEPTHI_HOUSE_PRICE_PREDICTION.ipynb\" target=\"_parent\"><img src=\"https://colab.research.google.com/assets/colab-badge.svg\" alt=\"Open In Colab\"/></a>"
      ]
    },
    {
      "cell_type": "code",
      "metadata": {
        "id": "kfyvXhdfDH2D"
      },
      "source": [
        "import pandas as pd\n",
        "import numpy as np\n",
        "import sklearn\n",
        "import matplotlib.pyplot as plt  \n"
      ],
      "execution_count": 15,
      "outputs": []
    },
    {
      "cell_type": "code",
      "metadata": {
        "id": "GGxg94rVDXFD"
      },
      "source": [
        "from sklearn import linear_model"
      ],
      "execution_count": null,
      "outputs": []
    },
    {
      "cell_type": "code",
      "metadata": {
        "colab": {
          "base_uri": "https://localhost:8080/",
          "height": 990
        },
        "id": "KudS_b0BDOH4",
        "outputId": "b022fd8b-cb96-45fa-e691-5e95447f4e0a"
      },
      "source": [
        "dataset = pd.read_csv(\"/content/drive/MyDrive/Colab Notebooks/house_price_prediction/training-set-house_price_prediction.csv\")\n",
        "dataset"
      ],
      "execution_count": null,
      "outputs": [
        {
          "output_type": "execute_result",
          "data": {
            "text/html": [
              "<div>\n",
              "<style scoped>\n",
              "    .dataframe tbody tr th:only-of-type {\n",
              "        vertical-align: middle;\n",
              "    }\n",
              "\n",
              "    .dataframe tbody tr th {\n",
              "        vertical-align: top;\n",
              "    }\n",
              "\n",
              "    .dataframe thead th {\n",
              "        text-align: right;\n",
              "    }\n",
              "</style>\n",
              "<table border=\"1\" class=\"dataframe\">\n",
              "  <thead>\n",
              "    <tr style=\"text-align: right;\">\n",
              "      <th></th>\n",
              "      <th>AREA</th>\n",
              "      <th>NUMBER_OF_BEDROOMS</th>\n",
              "      <th>NUMBER_OF_BATHROOMS</th>\n",
              "      <th>PRICE</th>\n",
              "    </tr>\n",
              "  </thead>\n",
              "  <tbody>\n",
              "    <tr>\n",
              "      <th>0</th>\n",
              "      <td>1000</td>\n",
              "      <td>2</td>\n",
              "      <td>2</td>\n",
              "      <td>3500000</td>\n",
              "    </tr>\n",
              "    <tr>\n",
              "      <th>1</th>\n",
              "      <td>1000</td>\n",
              "      <td>3</td>\n",
              "      <td>2</td>\n",
              "      <td>3600000</td>\n",
              "    </tr>\n",
              "    <tr>\n",
              "      <th>2</th>\n",
              "      <td>1200</td>\n",
              "      <td>3</td>\n",
              "      <td>3</td>\n",
              "      <td>3800000</td>\n",
              "    </tr>\n",
              "    <tr>\n",
              "      <th>3</th>\n",
              "      <td>1200</td>\n",
              "      <td>2</td>\n",
              "      <td>2</td>\n",
              "      <td>3700000</td>\n",
              "    </tr>\n",
              "    <tr>\n",
              "      <th>4</th>\n",
              "      <td>750</td>\n",
              "      <td>2</td>\n",
              "      <td>1</td>\n",
              "      <td>3000000</td>\n",
              "    </tr>\n",
              "    <tr>\n",
              "      <th>5</th>\n",
              "      <td>750</td>\n",
              "      <td>1</td>\n",
              "      <td>1</td>\n",
              "      <td>2800000</td>\n",
              "    </tr>\n",
              "    <tr>\n",
              "      <th>6</th>\n",
              "      <td>750</td>\n",
              "      <td>2</td>\n",
              "      <td>2</td>\n",
              "      <td>2900000</td>\n",
              "    </tr>\n",
              "    <tr>\n",
              "      <th>7</th>\n",
              "      <td>500</td>\n",
              "      <td>1</td>\n",
              "      <td>1</td>\n",
              "      <td>2500000</td>\n",
              "    </tr>\n",
              "    <tr>\n",
              "      <th>8</th>\n",
              "      <td>625</td>\n",
              "      <td>1</td>\n",
              "      <td>1</td>\n",
              "      <td>2700000</td>\n",
              "    </tr>\n",
              "    <tr>\n",
              "      <th>9</th>\n",
              "      <td>500</td>\n",
              "      <td>1</td>\n",
              "      <td>1</td>\n",
              "      <td>2400000</td>\n",
              "    </tr>\n",
              "    <tr>\n",
              "      <th>10</th>\n",
              "      <td>450</td>\n",
              "      <td>0</td>\n",
              "      <td>1</td>\n",
              "      <td>1800000</td>\n",
              "    </tr>\n",
              "    <tr>\n",
              "      <th>11</th>\n",
              "      <td>450</td>\n",
              "      <td>0</td>\n",
              "      <td>1</td>\n",
              "      <td>2000000</td>\n",
              "    </tr>\n",
              "    <tr>\n",
              "      <th>12</th>\n",
              "      <td>1000</td>\n",
              "      <td>3</td>\n",
              "      <td>2</td>\n",
              "      <td>4000000</td>\n",
              "    </tr>\n",
              "    <tr>\n",
              "      <th>13</th>\n",
              "      <td>1250</td>\n",
              "      <td>3</td>\n",
              "      <td>3</td>\n",
              "      <td>4200000</td>\n",
              "    </tr>\n",
              "    <tr>\n",
              "      <th>14</th>\n",
              "      <td>1250</td>\n",
              "      <td>3</td>\n",
              "      <td>2</td>\n",
              "      <td>4100000</td>\n",
              "    </tr>\n",
              "    <tr>\n",
              "      <th>15</th>\n",
              "      <td>1250</td>\n",
              "      <td>3</td>\n",
              "      <td>3</td>\n",
              "      <td>4400000</td>\n",
              "    </tr>\n",
              "    <tr>\n",
              "      <th>16</th>\n",
              "      <td>1500</td>\n",
              "      <td>3</td>\n",
              "      <td>2</td>\n",
              "      <td>4900000</td>\n",
              "    </tr>\n",
              "    <tr>\n",
              "      <th>17</th>\n",
              "      <td>1500</td>\n",
              "      <td>3</td>\n",
              "      <td>2</td>\n",
              "      <td>5250000</td>\n",
              "    </tr>\n",
              "    <tr>\n",
              "      <th>18</th>\n",
              "      <td>1500</td>\n",
              "      <td>4</td>\n",
              "      <td>3</td>\n",
              "      <td>5500000</td>\n",
              "    </tr>\n",
              "    <tr>\n",
              "      <th>19</th>\n",
              "      <td>1500</td>\n",
              "      <td>2</td>\n",
              "      <td>2</td>\n",
              "      <td>5050000</td>\n",
              "    </tr>\n",
              "    <tr>\n",
              "      <th>20</th>\n",
              "      <td>1500</td>\n",
              "      <td>2</td>\n",
              "      <td>2</td>\n",
              "      <td>4700000</td>\n",
              "    </tr>\n",
              "    <tr>\n",
              "      <th>21</th>\n",
              "      <td>1650</td>\n",
              "      <td>5</td>\n",
              "      <td>5</td>\n",
              "      <td>5565000</td>\n",
              "    </tr>\n",
              "    <tr>\n",
              "      <th>22</th>\n",
              "      <td>1650</td>\n",
              "      <td>4</td>\n",
              "      <td>5</td>\n",
              "      <td>5340000</td>\n",
              "    </tr>\n",
              "    <tr>\n",
              "      <th>23</th>\n",
              "      <td>1700</td>\n",
              "      <td>3</td>\n",
              "      <td>3</td>\n",
              "      <td>6590000</td>\n",
              "    </tr>\n",
              "    <tr>\n",
              "      <th>24</th>\n",
              "      <td>2400</td>\n",
              "      <td>6</td>\n",
              "      <td>6</td>\n",
              "      <td>9999999</td>\n",
              "    </tr>\n",
              "    <tr>\n",
              "      <th>25</th>\n",
              "      <td>2400</td>\n",
              "      <td>5</td>\n",
              "      <td>6</td>\n",
              "      <td>9500000</td>\n",
              "    </tr>\n",
              "    <tr>\n",
              "      <th>26</th>\n",
              "      <td>2000</td>\n",
              "      <td>4</td>\n",
              "      <td>5</td>\n",
              "      <td>8000000</td>\n",
              "    </tr>\n",
              "    <tr>\n",
              "      <th>27</th>\n",
              "      <td>1900</td>\n",
              "      <td>3</td>\n",
              "      <td>3</td>\n",
              "      <td>7500000</td>\n",
              "    </tr>\n",
              "    <tr>\n",
              "      <th>28</th>\n",
              "      <td>1850</td>\n",
              "      <td>3</td>\n",
              "      <td>4</td>\n",
              "      <td>7500000</td>\n",
              "    </tr>\n",
              "    <tr>\n",
              "      <th>29</th>\n",
              "      <td>2400</td>\n",
              "      <td>6</td>\n",
              "      <td>6</td>\n",
              "      <td>9899999</td>\n",
              "    </tr>\n",
              "  </tbody>\n",
              "</table>\n",
              "</div>"
            ],
            "text/plain": [
              "    AREA  NUMBER_OF_BEDROOMS  NUMBER_OF_BATHROOMS    PRICE\n",
              "0   1000                   2                    2  3500000\n",
              "1   1000                   3                    2  3600000\n",
              "2   1200                   3                    3  3800000\n",
              "3   1200                   2                    2  3700000\n",
              "4    750                   2                    1  3000000\n",
              "5    750                   1                    1  2800000\n",
              "6    750                   2                    2  2900000\n",
              "7    500                   1                    1  2500000\n",
              "8    625                   1                    1  2700000\n",
              "9    500                   1                    1  2400000\n",
              "10   450                   0                    1  1800000\n",
              "11   450                   0                    1  2000000\n",
              "12  1000                   3                    2  4000000\n",
              "13  1250                   3                    3  4200000\n",
              "14  1250                   3                    2  4100000\n",
              "15  1250                   3                    3  4400000\n",
              "16  1500                   3                    2  4900000\n",
              "17  1500                   3                    2  5250000\n",
              "18  1500                   4                    3  5500000\n",
              "19  1500                   2                    2  5050000\n",
              "20  1500                   2                    2  4700000\n",
              "21  1650                   5                    5  5565000\n",
              "22  1650                   4                    5  5340000\n",
              "23  1700                   3                    3  6590000\n",
              "24  2400                   6                    6  9999999\n",
              "25  2400                   5                    6  9500000\n",
              "26  2000                   4                    5  8000000\n",
              "27  1900                   3                    3  7500000\n",
              "28  1850                   3                    4  7500000\n",
              "29  2400                   6                    6  9899999"
            ]
          },
          "metadata": {},
          "execution_count": 3
        }
      ]
    },
    {
      "cell_type": "code",
      "metadata": {
        "colab": {
          "base_uri": "https://localhost:8080/",
          "height": 295
        },
        "id": "7TSsCfkHKSDQ",
        "outputId": "42455439-8dd9-4515-9307-0778104e8946"
      },
      "source": [
        "dataset.plot(x='AREA', y='PRICE', style='o')  \n",
        "plt.title('AREA vs PRICE')  \n",
        "plt.xlabel('AREA')  \n",
        "plt.ylabel('PRICE')  \n",
        "plt.show()"
      ],
      "execution_count": 19,
      "outputs": [
        {
          "output_type": "display_data",
          "data": {
            "image/png": "[encoded data removed]",
            "text/plain": [
              "<Figure size 432x288 with 1 Axes>"
            ]
          },
          "metadata": {
            "needs_background": "light"
          }
        }
      ]
    },
    {
      "cell_type": "code",
      "metadata": {
        "colab": {
          "base_uri": "https://localhost:8080/"
        },
        "id": "ANuQplmBDp8W",
        "outputId": "d3734c87-13d0-4237-da33-0dc7092ff6ce"
      },
      "source": [
        "reg = linear_model.LinearRegression()\n",
        "reg.fit(dataset[['AREA','NUMBER_OF_BEDROOMS','NUMBER_OF_BATHROOMS']],dataset.PRICE)"
      ],
      "execution_count": null,
      "outputs": [
        {
          "output_type": "execute_result",
          "data": {
            "text/plain": [
              "LinearRegression(copy_X=True, fit_intercept=True, n_jobs=None, normalize=False)"
            ]
          },
          "metadata": {},
          "execution_count": 11
        }
      ]
    },
    {
      "cell_type": "code",
      "metadata": {
        "colab": {
          "base_uri": "https://localhost:8080/",
          "height": 269
        },
        "id": "osYfRUYoELoS",
        "outputId": "16459575-daaa-4373-ecf0-7833934dff35"
      },
      "source": [
        "test= pd.read_csv(\"/content/drive/MyDrive/Colab Notebooks/house_price_prediction/test-set-house_price_prediction.csv\")\n",
        "test"
      ],
      "execution_count": null,
      "outputs": [
        {
          "output_type": "execute_result",
          "data": {
            "text/html": [
              "<div>\n",
              "<style scoped>\n",
              "    .dataframe tbody tr th:only-of-type {\n",
              "        vertical-align: middle;\n",
              "    }\n",
              "\n",
              "    .dataframe tbody tr th {\n",
              "        vertical-align: top;\n",
              "    }\n",
              "\n",
              "    .dataframe thead th {\n",
              "        text-align: right;\n",
              "    }\n",
              "</style>\n",
              "<table border=\"1\" class=\"dataframe\">\n",
              "  <thead>\n",
              "    <tr style=\"text-align: right;\">\n",
              "      <th></th>\n",
              "      <th>AREA</th>\n",
              "      <th>NUMBER_OF_BEDROOMS</th>\n",
              "      <th>NUMBER_OF_BATHROOMS</th>\n",
              "    </tr>\n",
              "  </thead>\n",
              "  <tbody>\n",
              "    <tr>\n",
              "      <th>0</th>\n",
              "      <td>5000</td>\n",
              "      <td>12</td>\n",
              "      <td>13</td>\n",
              "    </tr>\n",
              "    <tr>\n",
              "      <th>1</th>\n",
              "      <td>1500</td>\n",
              "      <td>4</td>\n",
              "      <td>5</td>\n",
              "    </tr>\n",
              "    <tr>\n",
              "      <th>2</th>\n",
              "      <td>1820</td>\n",
              "      <td>5</td>\n",
              "      <td>5</td>\n",
              "    </tr>\n",
              "    <tr>\n",
              "      <th>3</th>\n",
              "      <td>300</td>\n",
              "      <td>0</td>\n",
              "      <td>1</td>\n",
              "    </tr>\n",
              "    <tr>\n",
              "      <th>4</th>\n",
              "      <td>480</td>\n",
              "      <td>1</td>\n",
              "      <td>1</td>\n",
              "    </tr>\n",
              "    <tr>\n",
              "      <th>5</th>\n",
              "      <td>460</td>\n",
              "      <td>1</td>\n",
              "      <td>1</td>\n",
              "    </tr>\n",
              "    <tr>\n",
              "      <th>6</th>\n",
              "      <td>3000</td>\n",
              "      <td>6</td>\n",
              "      <td>6</td>\n",
              "    </tr>\n",
              "  </tbody>\n",
              "</table>\n",
              "</div>"
            ],
            "text/plain": [
              "   AREA  NUMBER_OF_BEDROOMS  NUMBER_OF_BATHROOMS\n",
              "0  5000                  12                   13\n",
              "1  1500                   4                    5\n",
              "2  1820                   5                    5\n",
              "3   300                   0                    1\n",
              "4   480                   1                    1\n",
              "5   460                   1                    1\n",
              "6  3000                   6                    6"
            ]
          },
          "metadata": {},
          "execution_count": 12
        }
      ]
    },
    {
      "cell_type": "code",
      "metadata": {
        "colab": {
          "base_uri": "https://localhost:8080/"
        },
        "id": "hIOXXC7JEXrt",
        "outputId": "c9c2d574-53cc-4ffe-8be5-e66b3ce94fa7"
      },
      "source": [
        "reg.predict(test)"
      ],
      "execution_count": null,
      "outputs": [
        {
          "output_type": "execute_result",
          "data": {
            "text/plain": [
              "array([19327266.12823422,  5939169.78321295,  6950091.4164928 ,\n",
              "        1219009.96286981,  1727487.28832521,  1655709.53006457,\n",
              "       11288352.73504658])"
            ]
          },
          "metadata": {},
          "execution_count": 13
        }
      ]
    }
  ]
}